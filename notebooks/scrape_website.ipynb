{
 "cells": [
  {
   "cell_type": "code",
   "execution_count": 25,
   "metadata": {},
   "outputs": [],
   "source": [
    "import requests\n",
    "import json\n",
    "from bs4 import BeautifulSoup\n",
    "from urllib.parse import urljoin\n",
    "from typing import List\n",
    "import re\n",
    "import os"
   ]
  },
  {
   "cell_type": "code",
   "execution_count": 2,
   "metadata": {},
   "outputs": [
    {
     "name": "stdout",
     "output_type": "stream",
     "text": [
      "len(depth_1_links)=15\n",
      "len(depth_2_links)=41\n"
     ]
    }
   ],
   "source": [
    "def process_one_link(url: str) -> set:\n",
    "    try:\n",
    "        # Step 1: Fetch the HTML content\n",
    "        response = requests.get(url)\n",
    "        response.raise_for_status()  # Check if the request was successful\n",
    "        html_content = response.text\n",
    "\n",
    "        # Step 2: Parse the HTML\n",
    "        soup = BeautifulSoup(html_content, 'html.parser')\n",
    "\n",
    "        # Step 3: Extract the links\n",
    "        links = list()\n",
    "        for a_tag in soup.find_all('a', href=True):\n",
    "            link = urljoin(url, a_tag['href'])  # Convert relative URLs to absolute\n",
    "            links.append(link)\n",
    "\n",
    "        clean_links = get_clean_links(links)\n",
    "        same_domain_links = filter_different_domain_links(clean_links, url)\n",
    "        return same_domain_links\n",
    "    \n",
    "    except requests.RequestException as e:\n",
    "        print(f\"Error fetching the URL: {e}\")\n",
    "        return set()\n",
    "    \n",
    "\n",
    "def get_all_links(url: str, depth: int=1) -> List[str]:\n",
    "    # depth = 0 - only visit the root link\n",
    "    # depth = 1 - visit the root and all links form it\n",
    "    visited_links = set()\n",
    "    links_for_search = [url]\n",
    "\n",
    "    for i in range(depth):\n",
    "        new_links_current_depth_set = set()\n",
    "\n",
    "        for link in links_for_search:\n",
    "            new_links = process_one_link(link)\n",
    "            new_links_current_depth_set.update(new_links)\n",
    "\n",
    "        visited_links.update(links_for_search)\n",
    "        links_for_search = new_links_current_depth_set\n",
    "\n",
    "    visited_links.update(links_for_search)\n",
    "\n",
    "    return list(visited_links)\n",
    "\n",
    "\n",
    "    \n",
    "def get_clean_links(links: set) -> set:\n",
    "    links = set([link for link in links \n",
    "                 if link.startswith('https://www.') or link.startswith('http://www.')])\n",
    "    \n",
    "    formated_links = []\n",
    "\n",
    "    for link in links:\n",
    "        if link.endswith('/'):\n",
    "            formated_links.append(link[:-1])\n",
    "        else:\n",
    "            formated_links.append(link)\n",
    "\n",
    "    return formated_links\n",
    "\n",
    "\n",
    "def filter_different_domain_links(links: set, url) -> set:\n",
    "    domain = url.replace('https://www.', '').replace('http://www.', '').split('.', maxsplit=1)[0]\n",
    "\n",
    "    links = set([link for link in links \n",
    "                 if link.replace('https://www.', '').replace('http://www.', '').startswith(domain)])\n",
    "    return links\n",
    "\n",
    "# Usage\n",
    "url = 'https://www.therocketbrew.com'  \n",
    "\n",
    "depth_1_links = get_all_links(url, depth=1)\n",
    "depth_2_links = get_all_links(url, depth=2)\n",
    "\n",
    "\n",
    "print(f\"{len(depth_1_links)=}\")\n",
    "print(f\"{len(depth_2_links)=}\")"
   ]
  },
  {
   "cell_type": "code",
   "execution_count": 3,
   "metadata": {},
   "outputs": [
    {
     "data": {
      "text/plain": [
       "['http://www.therocketbrew.com/pricing',\n",
       " 'http://www.therocketbrew.com/blogs/is-personalization-important-in-cold-outreach',\n",
       " 'http://www.therocketbrew.com/blogs/is-chatgpt-effective-for-outreach',\n",
       " 'https://www.therocketbrew.com/book-a-demo',\n",
       " 'http://www.therocketbrew.com/security-and-trust',\n",
       " 'http://www.therocketbrew.com/blogs/what-b2b-sales-can-learn-from-b2c-sales',\n",
       " 'http://www.therocketbrew.com/sales-and-crm-integrations',\n",
       " 'http://www.therocketbrew.com/book-a-demo',\n",
       " 'http://www.therocketbrew.com/blogs/how-to-write-relevant-outbound-messages',\n",
       " 'http://www.therocketbrew.com/blogs/what-data-to-use-to-personalize-cold-outreach',\n",
       " 'http://www.therocketbrew.com/blogs/what-are-the-key-elements-of-a-good-value-proposition',\n",
       " 'https://www.therocketbrew.com/startup',\n",
       " 'http://www.therocketbrew.com/features',\n",
       " 'http://www.therocketbrew.com/blogs/how-to-make-cold-outreach-follow-ups-effective',\n",
       " 'http://www.therocketbrew.com/blogs/how-do-you-pitch-a-technical-product',\n",
       " 'http://www.therocketbrew.com/blogs/how-consumption-based-products-are-better-for-outreach',\n",
       " 'http://www.therocketbrew.com/blogs/how-personalized-should-an-outreach-message-be',\n",
       " 'http://www.therocketbrew.com/startup',\n",
       " 'http://www.therocketbrew.com/enterprise',\n",
       " 'http://www.therocketbrew.com',\n",
       " 'http://www.therocketbrew.com/checkout',\n",
       " 'http://www.therocketbrew.com/blogs/power-of-personalization',\n",
       " 'http://www.therocketbrew.com/blogs/what-is-the-difference-between-personalized-and-templated-outreach',\n",
       " 'https://www.therocketbrew.com/team',\n",
       " 'https://www.therocketbrew.com/enterprise',\n",
       " 'https://www.therocketbrew.com',\n",
       " 'https://www.therocketbrew.com/pricing',\n",
       " 'http://www.therocketbrew.com/blogs/should-you-use-linkedin-as-an-outreach-channel',\n",
       " 'https://www.therocketbrew.com/features',\n",
       " 'http://www.therocketbrew.com/email-101-how-to-set-up-dns-records-email-auth-for-gmail-using-rocketbrew',\n",
       " 'http://www.therocketbrew.com/blogs/how-to-respond-to-cold-outreach-when-its-not-a-yes',\n",
       " 'http://www.therocketbrew.com/blogs/whats-the-future-of-outbound-in-2024',\n",
       " 'http://www.therocketbrew.com/blogs/how-outbound-personalization-has-changed-in-2024',\n",
       " 'http://www.therocketbrew.com/blogs/should-you-send-empty-connection-requests-on-linkedin-for-cold-outreach',\n",
       " 'http://www.therocketbrew.com/blogs/is-outbound-a-numbers-game',\n",
       " 'http://www.therocketbrew.com/blogs/what-should-a-cold-outreach-message-include',\n",
       " 'https://www.therocketbrew.com/checkout',\n",
       " 'http://www.therocketbrew.com/team',\n",
       " 'https://www.therocketbrew.com/blogs',\n",
       " 'http://www.therocketbrew.com/blogs',\n",
       " 'http://www.therocketbrew.com/blogs/how-do-you-grab-the-attention-of-a-prospect']"
      ]
     },
     "execution_count": 3,
     "metadata": {},
     "output_type": "execute_result"
    }
   ],
   "source": [
    "depth_2_links"
   ]
  },
  {
   "cell_type": "code",
   "execution_count": 34,
   "metadata": {},
   "outputs": [
    {
     "data": {
      "text/plain": [
       "'therocketbrew.com'"
      ]
     },
     "execution_count": 34,
     "metadata": {},
     "output_type": "execute_result"
    }
   ],
   "source": [
    "domain_list = url.replace('https://www.', '').replace('http://www.', '').split('.', maxsplit=2)[:2]\n",
    "domain_folder_name = '.'.join(domain_list)\n",
    "\n",
    "# Check if the folder exists, if not, create it\n",
    "if not os.path.exists(domain_folder_name):\n",
    "    os.makedirs(domain_folder_name)\n",
    "\n",
    "domain_folder_name"
   ]
  },
  {
   "cell_type": "code",
   "execution_count": 35,
   "metadata": {},
   "outputs": [],
   "source": [
    "links_str_to_save = json.dumps({\"all_links\": depth_2_links})"
   ]
  },
  {
   "cell_type": "code",
   "execution_count": 36,
   "metadata": {},
   "outputs": [],
   "source": [
    "all_links_filename = 'depth_2_links.json'\n",
    "\n",
    "file_path_to_save = os.path.join(domain_folder_name, all_links_filename)\n",
    "\n",
    "# Write the JSON object to a file\n",
    "with open(file_path_to_save, 'w') as json_file:\n",
    "    json.dump(links_str_to_save, json_file, indent=4)"
   ]
  },
  {
   "cell_type": "code",
   "execution_count": null,
   "metadata": {},
   "outputs": [],
   "source": [
    "depth_2_links"
   ]
  },
  {
   "cell_type": "code",
   "execution_count": 4,
   "metadata": {},
   "outputs": [
    {
     "data": {
      "text/plain": [
       "'therocketbrew'"
      ]
     },
     "execution_count": 4,
     "metadata": {},
     "output_type": "execute_result"
    }
   ],
   "source": []
  },
  {
   "cell_type": "markdown",
   "metadata": {},
   "source": [
    "## Decide what links are useful to scrape for summary"
   ]
  },
  {
   "cell_type": "code",
   "execution_count": 37,
   "metadata": {},
   "outputs": [
    {
     "data": {
      "text/plain": [
       "'{\"all_links\": [\"http://www.therocketbrew.com/pricing\", \"http://www.therocketbrew.com/blogs/is-personalization-important-in-cold-outreach\", \"http://www.therocketbrew.com/blogs/is-chatgpt-effective-for-outreach\", \"https://www.therocketbrew.com/book-a-demo\", \"http://www.therocketbrew.com/security-and-trust\", \"http://www.therocketbrew.com/blogs/what-b2b-sales-can-learn-from-b2c-sales\", \"http://www.therocketbrew.com/sales-and-crm-integrations\", \"http://www.therocketbrew.com/book-a-demo\", \"http://www.therocketbrew.com/blogs/how-to-write-relevant-outbound-messages\", \"http://www.therocketbrew.com/blogs/what-data-to-use-to-personalize-cold-outreach\", \"http://www.therocketbrew.com/blogs/what-are-the-key-elements-of-a-good-value-proposition\", \"https://www.therocketbrew.com/startup\", \"http://www.therocketbrew.com/features\", \"http://www.therocketbrew.com/blogs/how-to-make-cold-outreach-follow-ups-effective\", \"http://www.therocketbrew.com/blogs/how-do-you-pitch-a-technical-product\", \"http://www.therocketbrew.com/blogs/how-consumption-based-products-are-better-for-outreach\", \"http://www.therocketbrew.com/blogs/how-personalized-should-an-outreach-message-be\", \"http://www.therocketbrew.com/startup\", \"http://www.therocketbrew.com/enterprise\", \"http://www.therocketbrew.com\", \"http://www.therocketbrew.com/checkout\", \"http://www.therocketbrew.com/blogs/power-of-personalization\", \"http://www.therocketbrew.com/blogs/what-is-the-difference-between-personalized-and-templated-outreach\", \"https://www.therocketbrew.com/team\", \"https://www.therocketbrew.com/enterprise\", \"https://www.therocketbrew.com\", \"https://www.therocketbrew.com/pricing\", \"http://www.therocketbrew.com/blogs/should-you-use-linkedin-as-an-outreach-channel\", \"https://www.therocketbrew.com/features\", \"http://www.therocketbrew.com/email-101-how-to-set-up-dns-records-email-auth-for-gmail-using-rocketbrew\", \"http://www.therocketbrew.com/blogs/how-to-respond-to-cold-outreach-when-its-not-a-yes\", \"http://www.therocketbrew.com/blogs/whats-the-future-of-outbound-in-2024\", \"http://www.therocketbrew.com/blogs/how-outbound-personalization-has-changed-in-2024\", \"http://www.therocketbrew.com/blogs/should-you-send-empty-connection-requests-on-linkedin-for-cold-outreach\", \"http://www.therocketbrew.com/blogs/is-outbound-a-numbers-game\", \"http://www.therocketbrew.com/blogs/what-should-a-cold-outreach-message-include\", \"https://www.therocketbrew.com/checkout\", \"http://www.therocketbrew.com/team\", \"https://www.therocketbrew.com/blogs\", \"http://www.therocketbrew.com/blogs\", \"http://www.therocketbrew.com/blogs/how-do-you-grab-the-attention-of-a-prospect\"]}'"
      ]
     },
     "execution_count": 37,
     "metadata": {},
     "output_type": "execute_result"
    }
   ],
   "source": [
    "# Read the JSON file\n",
    "with open(file_path_to_save, 'r') as json_file:\n",
    "    data = json.load(json_file)\n",
    "\n",
    "data"
   ]
  },
  {
   "cell_type": "code",
   "execution_count": 38,
   "metadata": {},
   "outputs": [
    {
     "data": {
      "text/plain": [
       "['http://www.therocketbrew.com/pricing',\n",
       " 'http://www.therocketbrew.com/blogs/is-personalization-important-in-cold-outreach',\n",
       " 'http://www.therocketbrew.com/blogs/is-chatgpt-effective-for-outreach',\n",
       " 'https://www.therocketbrew.com/book-a-demo',\n",
       " 'http://www.therocketbrew.com/security-and-trust',\n",
       " 'http://www.therocketbrew.com/blogs/what-b2b-sales-can-learn-from-b2c-sales',\n",
       " 'http://www.therocketbrew.com/sales-and-crm-integrations',\n",
       " 'http://www.therocketbrew.com/book-a-demo',\n",
       " 'http://www.therocketbrew.com/blogs/how-to-write-relevant-outbound-messages',\n",
       " 'http://www.therocketbrew.com/blogs/what-data-to-use-to-personalize-cold-outreach',\n",
       " 'http://www.therocketbrew.com/blogs/what-are-the-key-elements-of-a-good-value-proposition',\n",
       " 'https://www.therocketbrew.com/startup',\n",
       " 'http://www.therocketbrew.com/features',\n",
       " 'http://www.therocketbrew.com/blogs/how-to-make-cold-outreach-follow-ups-effective',\n",
       " 'http://www.therocketbrew.com/blogs/how-do-you-pitch-a-technical-product',\n",
       " 'http://www.therocketbrew.com/blogs/how-consumption-based-products-are-better-for-outreach',\n",
       " 'http://www.therocketbrew.com/blogs/how-personalized-should-an-outreach-message-be',\n",
       " 'http://www.therocketbrew.com/startup',\n",
       " 'http://www.therocketbrew.com/enterprise',\n",
       " 'http://www.therocketbrew.com',\n",
       " 'http://www.therocketbrew.com/checkout',\n",
       " 'http://www.therocketbrew.com/blogs/power-of-personalization',\n",
       " 'http://www.therocketbrew.com/blogs/what-is-the-difference-between-personalized-and-templated-outreach',\n",
       " 'https://www.therocketbrew.com/team',\n",
       " 'https://www.therocketbrew.com/enterprise',\n",
       " 'https://www.therocketbrew.com',\n",
       " 'https://www.therocketbrew.com/pricing',\n",
       " 'http://www.therocketbrew.com/blogs/should-you-use-linkedin-as-an-outreach-channel',\n",
       " 'https://www.therocketbrew.com/features',\n",
       " 'http://www.therocketbrew.com/email-101-how-to-set-up-dns-records-email-auth-for-gmail-using-rocketbrew',\n",
       " 'http://www.therocketbrew.com/blogs/how-to-respond-to-cold-outreach-when-its-not-a-yes',\n",
       " 'http://www.therocketbrew.com/blogs/whats-the-future-of-outbound-in-2024',\n",
       " 'http://www.therocketbrew.com/blogs/how-outbound-personalization-has-changed-in-2024',\n",
       " 'http://www.therocketbrew.com/blogs/should-you-send-empty-connection-requests-on-linkedin-for-cold-outreach',\n",
       " 'http://www.therocketbrew.com/blogs/is-outbound-a-numbers-game',\n",
       " 'http://www.therocketbrew.com/blogs/what-should-a-cold-outreach-message-include',\n",
       " 'https://www.therocketbrew.com/checkout',\n",
       " 'http://www.therocketbrew.com/team',\n",
       " 'https://www.therocketbrew.com/blogs',\n",
       " 'http://www.therocketbrew.com/blogs',\n",
       " 'http://www.therocketbrew.com/blogs/how-do-you-grab-the-attention-of-a-prospect']"
      ]
     },
     "execution_count": 38,
     "metadata": {},
     "output_type": "execute_result"
    }
   ],
   "source": [
    "depth_2_links = json.loads(data)['all_links']\n",
    "depth_2_links"
   ]
  },
  {
   "cell_type": "code",
   "execution_count": 5,
   "metadata": {},
   "outputs": [],
   "source": [
    "import os\n",
    "import openai\n",
    "from dotenv import load_dotenv, find_dotenv\n",
    "\n",
    "_ = load_dotenv(find_dotenv()) # read local .env file\n",
    "openai.api_key = os.environ['OPENAI_API_KEY']"
   ]
  },
  {
   "cell_type": "code",
   "execution_count": 6,
   "metadata": {},
   "outputs": [],
   "source": [
    "from langchain_openai import ChatOpenAI"
   ]
  },
  {
   "cell_type": "code",
   "execution_count": 7,
   "metadata": {},
   "outputs": [],
   "source": [
    "llm_model = \"gpt-3.5-turbo\""
   ]
  },
  {
   "cell_type": "code",
   "execution_count": 8,
   "metadata": {},
   "outputs": [],
   "source": [
    "from langchain.schema import (\n",
    "    HumanMessage,\n",
    "    SystemMessage\n",
    ")\n"
   ]
  },
  {
   "cell_type": "code",
   "execution_count": 9,
   "metadata": {},
   "outputs": [],
   "source": [
    "SYSTEM_PROMPT = \"\"\"\n",
    "I'm scraping website to learn more about the product it offers, what are the benefits of using it and what are the competitive advantages of this company or its products. \n",
    "\n",
    "Help me decide what 10 links out of all links should I scrape, I'll send you links. Return the JSON with key \"useful_links\" and value is list of links.\n",
    "\n",
    "My life depends on this. I will tip you generously if you follow the instructions and do a great job. Only return the JSON with key \"useful_links\" and value is list of links, no other text is needed.\n",
    "\n",
    "\"\"\""
   ]
  },
  {
   "cell_type": "code",
   "execution_count": 10,
   "metadata": {},
   "outputs": [],
   "source": [
    "chat = ChatOpenAI(temperature=0)\n"
   ]
  },
  {
   "cell_type": "code",
   "execution_count": 15,
   "metadata": {},
   "outputs": [
    {
     "data": {
      "text/plain": [
       "{'content': '{\\n    \"useful_links\": [\\n        \"http://www.therocketbrew.com/pricing\",\\n        \"http://www.therocketbrew.com/blogs/is-personalization-important-in-cold-outreach\",\\n        \"http://www.therocketbrew.com/blogs/is-chatgpt-effective-for-outreach\",\\n        \"https://www.therocketbrew.com/book-a-demo\",\\n        \"http://www.therocketbrew.com/security-and-trust\",\\n        \"http://www.therocketbrew.com/sales-and-crm-integrations\",\\n        \"http://www.therocketbrew.com/features\",\\n        \"http://www.therocketbrew.com/blogs/how-to-make-cold-outreach-follow-ups-effective\",\\n        \"http://www.therocketbrew.com/blogs/how-do-you-pitch-a-technical-product\",\\n        \"http://www.therocketbrew.com/blogs/how-consumption-based-products-are-better-for-outreach\"\\n    ]\\n}',\n",
       " 'additional_kwargs': {},\n",
       " 'response_metadata': {'token_usage': {'completion_tokens': 199,\n",
       "   'prompt_tokens': 874,\n",
       "   'total_tokens': 1073},\n",
       "  'model_name': 'gpt-3.5-turbo-0125',\n",
       "  'system_fingerprint': None,\n",
       "  'finish_reason': 'stop',\n",
       "  'logprobs': None},\n",
       " 'type': 'ai',\n",
       " 'name': None,\n",
       " 'id': 'run-48f0b625-2fa4-420f-83ee-e6db896557f1-0',\n",
       " 'example': False,\n",
       " 'tool_calls': [],\n",
       " 'invalid_tool_calls': [],\n",
       " 'usage_metadata': {'input_tokens': 874,\n",
       "  'output_tokens': 199,\n",
       "  'total_tokens': 1073}}"
      ]
     },
     "execution_count": 15,
     "metadata": {},
     "output_type": "execute_result"
    }
   ],
   "source": [
    "result = chat.invoke([SystemMessage(content=SYSTEM_PROMPT),\n",
    "                      HumanMessage(content=json.dumps(depth_2_links))])\n",
    "\n",
    "result.__dict__"
   ]
  },
  {
   "cell_type": "code",
   "execution_count": 19,
   "metadata": {},
   "outputs": [],
   "source": [
    "def clean_llm_output(llm_output: str) -> str:\n",
    "    # Use regex to remove everything before the first { and after the last }\n",
    "    cleaned_output = re.sub(r'^.*?({.*}).*$', r'\\1', llm_output.lower(), flags=re.DOTALL)\n",
    "    return cleaned_output"
   ]
  },
  {
   "cell_type": "code",
   "execution_count": 20,
   "metadata": {},
   "outputs": [],
   "source": [
    "clean_output = clean_llm_output(result.content)\n",
    "\n",
    "llm_links = json.loads(clean_output)\n",
    "summary_links = llm_links['useful_links']"
   ]
  },
  {
   "cell_type": "code",
   "execution_count": 21,
   "metadata": {},
   "outputs": [
    {
     "data": {
      "text/plain": [
       "['http://www.therocketbrew.com/pricing',\n",
       " 'http://www.therocketbrew.com/blogs/is-personalization-important-in-cold-outreach',\n",
       " 'http://www.therocketbrew.com/blogs/is-chatgpt-effective-for-outreach',\n",
       " 'https://www.therocketbrew.com/book-a-demo',\n",
       " 'http://www.therocketbrew.com/security-and-trust',\n",
       " 'http://www.therocketbrew.com/sales-and-crm-integrations',\n",
       " 'http://www.therocketbrew.com/features',\n",
       " 'http://www.therocketbrew.com/blogs/how-to-make-cold-outreach-follow-ups-effective',\n",
       " 'http://www.therocketbrew.com/blogs/how-do-you-pitch-a-technical-product',\n",
       " 'http://www.therocketbrew.com/blogs/how-consumption-based-products-are-better-for-outreach']"
      ]
     },
     "execution_count": 21,
     "metadata": {},
     "output_type": "execute_result"
    }
   ],
   "source": [
    "summary_links"
   ]
  },
  {
   "cell_type": "code",
   "execution_count": null,
   "metadata": {},
   "outputs": [],
   "source": []
  },
  {
   "cell_type": "code",
   "execution_count": 9,
   "metadata": {},
   "outputs": [],
   "source": [
    "summary_links = [\n",
    "    \"http://www.therocketbrew.com/features\",\n",
    "    \"http://www.therocketbrew.com/pricing\",\n",
    "    \"https://www.therocketbrew.com/startup\",\n",
    "    \"https://www.therocketbrew.com/enterprise\",\n",
    "    \"https://www.therocketbrew.com/book-a-demo\",\n",
    "    \"http://www.therocketbrew.com/security-and-trust\",\n",
    "    \"http://www.therocketbrew.com/blogs/how-consumption-based-products-are-better-for-outreach\",\n",
    "    \"http://www.therocketbrew.com/blogs/how-outbound-personalization-has-changed-in-2024\",\n",
    "    \"http://www.therocketbrew.com/blogs/what-are-the-key-elements-of-a-good-value-proposition\",\n",
    "    \"http://www.therocketbrew.com/blogs/what-data-to-use-to-personalize-cold-outreach\"\n",
    "]\n"
   ]
  },
  {
   "cell_type": "code",
   "execution_count": 40,
   "metadata": {},
   "outputs": [],
   "source": [
    "summary_links_str_to_save = json.dumps({\"summary_links\": summary_links})"
   ]
  },
  {
   "cell_type": "code",
   "execution_count": 41,
   "metadata": {},
   "outputs": [],
   "source": [
    "summary_links_filename = 'summary_links.json'\n",
    "\n",
    "file_path_to_save = os.path.join(domain_folder_name, summary_links_filename)\n",
    "\n",
    "# Write the JSON object to a file\n",
    "with open(file_path_to_save, 'w') as json_file:\n",
    "    json.dump(summary_links_str_to_save, json_file, indent=4)"
   ]
  },
  {
   "cell_type": "markdown",
   "metadata": {},
   "source": [
    "## Extract text from these links"
   ]
  },
  {
   "cell_type": "code",
   "execution_count": 42,
   "metadata": {},
   "outputs": [
    {
     "data": {
      "text/plain": [
       "'Rocketbrew | AI for personalized outbound\\n\\n\\n\\n\\n\\nSolutionsFor EnterpriseFor sales teams who want their entire outbound process to be automated with AI.For StartupsFor sellers just getting started with outreach and want an end-to-end solution to take care of everything.For TeamsFor outbound teams who want the highest performing tools for their SDRs.FeaturesPricingBlogsHow it worksPricingBlogsHow it worksPricingLoginGet startedYour Cart$Â\\xa00.00Â\\xa0USD: RemoveSubtotalPay with browser.Continue to CheckoutNo items found.Product is not available in this quantity.Personalized sales outbound,on autopilot.Automate your entire LinkedIn and email outreach motion including initial message, follow ups and scheduling a meeting - without a template.Get StartedSee how this workstrusted by 100+ companiestrusted by 100+ companiesOur generative AIÂ\\xa0model books more calls directly into your calendar.No more boring templates, wondering what to say, or endless follow ups. A completely automated end-to-end solution.Our system handles the entire interaction with your lead - from initial outreach, to conversing, to scheduling a meeting into your calendar. Plus in-app lead sourcing and CRM integration. Stop with the \"Saw you work at {company name}\" templates.Our generative AI model connects the dots on your lead\\'s profile and online activity to craft a hyper-personalized and relevant message for each lead, including follow ups.Not just an AI model, but your AI model.Easily tune the model with your own product description and value proposition without any code.value3 Â\\xa0Social profiles12 Team members5 Competitors per profileHashtags per profile5 Competitors per profileHashtags per profile\\nGet setup in 5 minutes.No complicated integrations or engineering resources needed.Connect your GTMÂ\\xa0StackSetup the modelHop on the booked callsSecurely connect your entire GTM stackRocketbrew integrates with your existing systems as an all-in-one outbound solution.Source leads and add product informationThe model reaches out to 500+ cold leads each month through organic connections. Each message and follow up is uniquely generated and paced out.Go straight to the meetingEasily review the conversation history for context and skip straight to the meeting.See how Rocketbrew does it\"Rocketbrew has been a great help to our small commercial team, saving us significant time in prospecting customers.\"- Zack Raborn, BD at Ansa BioBefore Rocketbrew, IÂ\\xa0was using a templated automation tool. I would get lots of connections but the tricky part was always getting the conversation going. Rocketbrew\\'s personalized messages are the difference between sales activity and sales outcomes.\"I never respond to outreachbut IÂ\\xa0responded to Rocketbrew.\"I heard about Rocketbrew from an outreach message from the team. It was by far the best cold outreach message I had ever received, and I didn\\'t believe it was written by AI. Now, I\\'ve fine-tuned Rocketbrew to my own use cases, and letting the tool do its magic.Javier LuraschiCEO, Hal9\"Night and day difference between Rocketbrew and templated messages.\"Before Rocketbrew, I focused on prioritizing volume by sending templated messages, but I would send thousands with few responses. With Rocketbrew, I can maintain a level of personalization and creative touch with every message I send. It\\'s honestly like having 3 extra players on my team to help craft genuine messages.Peter JurisicCEO, Budee\"If you can close calls, but struggle to open them, you need Rocketbrew.\"Reaching out to Fortune 500 companies is not easy. My team can close calls no problem, but getting our foot through the door was where we needed help and Rocketbrew has stepped in big time. We\\'ve gotten over 30 conversations in a month with Fortune 500 decision makers, all of them initiated by Rocketbrew\\'s hyper-personalized and well-researched messaging.Amit HasakCEO, Transship\"Scale your outreach without having to scale your team.\"The best tool for managing your team\\'s outbound. With Rocketbrew, I can manage our entire team\\'s accounts to scale our outreach, easily sending messages and responses from multiple accounts within one platform. The personalization can also be tuned per account, making the messages stand out and saving me soooooo much time.Chris RichaBD, StudioAccelerate your outbound, without adding headcount.Build pipelineAdd up to 15 incremental calls per rep, each month.Drive engagementConvert 33% of connections to conversations.Expand capacitySave up to 168 hours per rep, each month.TryRocketbrewfor FreeNo fuss, no muss.Get started nowTest messaging within the first 15 minutesFree hands-on onboarding & supportBecome a sales godteam@loverocketbrew.comResourcesContact UsBlogsWhat data to use for personalizationKey elements of an A+ value propositionDocumentationSecurity &Â\\xa0TrustSales and CRMÂ\\xa0IntegrationsHow to Set Up DNS Records & Email AuthÂ© All rights reserved.Privacy PolicyTerms & Conditions'"
      ]
     },
     "execution_count": 42,
     "metadata": {},
     "output_type": "execute_result"
    }
   ],
   "source": [
    "import requests\n",
    "from bs4 import BeautifulSoup\n",
    "from typing import List\n",
    "\n",
    "\n",
    "def fetch_html_content(url: str) -> str:\n",
    "    \"\"\"Fetch the HTML content from a given URL.\n",
    "\n",
    "    Args:\n",
    "        url (str): The URL of the website to fetch HTML content from.\n",
    "\n",
    "    Returns:\n",
    "        str: The raw HTML content of the page.\n",
    "    \"\"\"\n",
    "    try:\n",
    "        response = requests.get(url)\n",
    "        response.raise_for_status()  # Check if the request was successful\n",
    "\n",
    "         # Parse the HTML content\n",
    "        soup = BeautifulSoup(response.text, 'html.parser')\n",
    "        \n",
    "        return soup.get_text()\n",
    "    except requests.RequestException as e:\n",
    "        print(f\"Error fetching the URL: {e}\")\n",
    "        return \"\"\n",
    "\n",
    " \n",
    "html_content = fetch_html_content(url)\n",
    "\n",
    "html_content\n"
   ]
  },
  {
   "cell_type": "code",
   "execution_count": 43,
   "metadata": {},
   "outputs": [
    {
     "data": {
      "text/plain": [
       "['http://www.therocketbrew.com/pricing',\n",
       " 'http://www.therocketbrew.com/blogs/is-personalization-important-in-cold-outreach',\n",
       " 'http://www.therocketbrew.com/blogs/is-chatgpt-effective-for-outreach',\n",
       " 'https://www.therocketbrew.com/book-a-demo',\n",
       " 'http://www.therocketbrew.com/security-and-trust',\n",
       " 'http://www.therocketbrew.com/blogs/what-b2b-sales-can-learn-from-b2c-sales',\n",
       " 'http://www.therocketbrew.com/sales-and-crm-integrations',\n",
       " 'http://www.therocketbrew.com/book-a-demo',\n",
       " 'http://www.therocketbrew.com/blogs/how-to-write-relevant-outbound-messages',\n",
       " 'http://www.therocketbrew.com/blogs/what-data-to-use-to-personalize-cold-outreach',\n",
       " 'http://www.therocketbrew.com/blogs/what-are-the-key-elements-of-a-good-value-proposition',\n",
       " 'https://www.therocketbrew.com/startup',\n",
       " 'http://www.therocketbrew.com/features',\n",
       " 'http://www.therocketbrew.com/blogs/how-to-make-cold-outreach-follow-ups-effective',\n",
       " 'http://www.therocketbrew.com/blogs/how-do-you-pitch-a-technical-product',\n",
       " 'http://www.therocketbrew.com/blogs/how-consumption-based-products-are-better-for-outreach',\n",
       " 'http://www.therocketbrew.com/blogs/how-personalized-should-an-outreach-message-be',\n",
       " 'http://www.therocketbrew.com/startup',\n",
       " 'http://www.therocketbrew.com/enterprise',\n",
       " 'http://www.therocketbrew.com',\n",
       " 'http://www.therocketbrew.com/checkout',\n",
       " 'http://www.therocketbrew.com/blogs/power-of-personalization',\n",
       " 'http://www.therocketbrew.com/blogs/what-is-the-difference-between-personalized-and-templated-outreach',\n",
       " 'https://www.therocketbrew.com/team',\n",
       " 'https://www.therocketbrew.com/enterprise',\n",
       " 'https://www.therocketbrew.com',\n",
       " 'https://www.therocketbrew.com/pricing',\n",
       " 'http://www.therocketbrew.com/blogs/should-you-use-linkedin-as-an-outreach-channel',\n",
       " 'https://www.therocketbrew.com/features',\n",
       " 'http://www.therocketbrew.com/email-101-how-to-set-up-dns-records-email-auth-for-gmail-using-rocketbrew',\n",
       " 'http://www.therocketbrew.com/blogs/how-to-respond-to-cold-outreach-when-its-not-a-yes',\n",
       " 'http://www.therocketbrew.com/blogs/whats-the-future-of-outbound-in-2024',\n",
       " 'http://www.therocketbrew.com/blogs/how-outbound-personalization-has-changed-in-2024',\n",
       " 'http://www.therocketbrew.com/blogs/should-you-send-empty-connection-requests-on-linkedin-for-cold-outreach',\n",
       " 'http://www.therocketbrew.com/blogs/is-outbound-a-numbers-game',\n",
       " 'http://www.therocketbrew.com/blogs/what-should-a-cold-outreach-message-include',\n",
       " 'https://www.therocketbrew.com/checkout',\n",
       " 'http://www.therocketbrew.com/team',\n",
       " 'https://www.therocketbrew.com/blogs',\n",
       " 'http://www.therocketbrew.com/blogs',\n",
       " 'http://www.therocketbrew.com/blogs/how-do-you-grab-the-attention-of-a-prospect']"
      ]
     },
     "execution_count": 43,
     "metadata": {},
     "output_type": "execute_result"
    }
   ],
   "source": [
    "depth_2_links"
   ]
  },
  {
   "cell_type": "code",
   "execution_count": 44,
   "metadata": {},
   "outputs": [
    {
     "name": "stdout",
     "output_type": "stream",
     "text": [
      "http://www.therocketbrew.com/pricing 5297 5297\n",
      "http://www.therocketbrew.com/blogs/is-personalization-important-in-cold-outreach 7102 7102\n",
      "http://www.therocketbrew.com/blogs/is-chatgpt-effective-for-outreach 9030 9030\n",
      "https://www.therocketbrew.com/book-a-demo 11160 11160\n",
      "http://www.therocketbrew.com/security-and-trust 14301 14301\n",
      "http://www.therocketbrew.com/blogs/what-b2b-sales-can-learn-from-b2c-sales 16251 14301\n",
      "http://www.therocketbrew.com/sales-and-crm-integrations 22441 20491\n",
      "http://www.therocketbrew.com/book-a-demo 24571 20491\n",
      "http://www.therocketbrew.com/blogs/how-to-write-relevant-outbound-messages 26588 20491\n",
      "http://www.therocketbrew.com/blogs/what-data-to-use-to-personalize-cold-outreach 28322 20491\n",
      "http://www.therocketbrew.com/blogs/what-are-the-key-elements-of-a-good-value-proposition 30499 20491\n",
      "https://www.therocketbrew.com/startup 32694 20491\n",
      "http://www.therocketbrew.com/features 35169 22966\n",
      "http://www.therocketbrew.com/blogs/how-to-make-cold-outreach-follow-ups-effective 36723 24520\n",
      "http://www.therocketbrew.com/blogs/how-do-you-pitch-a-technical-product 38278 26075\n",
      "http://www.therocketbrew.com/blogs/how-consumption-based-products-are-better-for-outreach 39671 27468\n",
      "http://www.therocketbrew.com/blogs/how-personalized-should-an-outreach-message-be 41217 27468\n",
      "http://www.therocketbrew.com/startup 43412 27468\n",
      "http://www.therocketbrew.com/enterprise 45777 27468\n",
      "http://www.therocketbrew.com 50708 27468\n",
      "http://www.therocketbrew.com/checkout 56947 27468\n",
      "http://www.therocketbrew.com/blogs/power-of-personalization 62185 27468\n",
      "http://www.therocketbrew.com/blogs/what-is-the-difference-between-personalized-and-templated-outreach 63640 27468\n",
      "https://www.therocketbrew.com/team 65879 27468\n",
      "https://www.therocketbrew.com/enterprise 68244 27468\n",
      "https://www.therocketbrew.com 73175 27468\n",
      "https://www.therocketbrew.com/pricing 78472 27468\n",
      "http://www.therocketbrew.com/blogs/should-you-use-linkedin-as-an-outreach-channel 80610 27468\n",
      "https://www.therocketbrew.com/features 83085 27468\n",
      "http://www.therocketbrew.com/email-101-how-to-set-up-dns-records-email-auth-for-gmail-using-rocketbrew 92991 27468\n",
      "http://www.therocketbrew.com/blogs/how-to-respond-to-cold-outreach-when-its-not-a-yes 94870 27468\n",
      "http://www.therocketbrew.com/blogs/whats-the-future-of-outbound-in-2024 96792 27468\n",
      "http://www.therocketbrew.com/blogs/how-outbound-personalization-has-changed-in-2024 98732 27468\n",
      "http://www.therocketbrew.com/blogs/should-you-send-empty-connection-requests-on-linkedin-for-cold-outreach 101099 27468\n",
      "http://www.therocketbrew.com/blogs/is-outbound-a-numbers-game 102581 27468\n",
      "http://www.therocketbrew.com/blogs/what-should-a-cold-outreach-message-include 104544 27468\n",
      "https://www.therocketbrew.com/checkout 110783 27468\n",
      "http://www.therocketbrew.com/team 113022 27468\n",
      "https://www.therocketbrew.com/blogs 115917 27468\n",
      "http://www.therocketbrew.com/blogs 118812 27468\n",
      "http://www.therocketbrew.com/blogs/how-do-you-grab-the-attention-of-a-prospect 120952 27468\n"
     ]
    }
   ],
   "source": [
    "website_info = ''\n",
    "\n",
    "info_for_summary = ''\n",
    "\n",
    "for link in depth_2_links:\n",
    "\n",
    "    html_content = fetch_html_content(link)\n",
    "    website_info += html_content\n",
    "\n",
    "    if link in summary_links:\n",
    "        info_for_summary += html_content\n",
    "        \n",
    "    print(link, len(website_info), len(info_for_summary))\n"
   ]
  },
  {
   "cell_type": "code",
   "execution_count": 48,
   "metadata": {},
   "outputs": [],
   "source": [
    "with open(os.path.join(domain_folder_name, 'website_info_depth_2.txt'), 'w') as file:\n",
    "    file.write(website_info)\n",
    "\n",
    "with open(os.path.join(domain_folder_name, 'website_info_for_summary.txt'), 'w') as file:\n",
    "    file.write(info_for_summary)"
   ]
  },
  {
   "cell_type": "code",
   "execution_count": null,
   "metadata": {},
   "outputs": [],
   "source": []
  }
 ],
 "metadata": {
  "kernelspec": {
   "display_name": ".sales",
   "language": "python",
   "name": "python3"
  },
  "language_info": {
   "codemirror_mode": {
    "name": "ipython",
    "version": 3
   },
   "file_extension": ".py",
   "mimetype": "text/x-python",
   "name": "python",
   "nbconvert_exporter": "python",
   "pygments_lexer": "ipython3",
   "version": "3.10.9"
  }
 },
 "nbformat": 4,
 "nbformat_minor": 2
}
