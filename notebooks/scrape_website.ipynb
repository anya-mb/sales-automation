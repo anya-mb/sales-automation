{
 "cells": [
  {
   "cell_type": "code",
   "execution_count": 2,
   "metadata": {},
   "outputs": [],
   "source": [
    "import requests\n",
    "from bs4 import BeautifulSoup\n",
    "from urllib.parse import urljoin"
   ]
  },
  {
   "cell_type": "code",
   "execution_count": 10,
   "metadata": {},
   "outputs": [
    {
     "name": "stdout",
     "output_type": "stream",
     "text": [
      "http://www.therocketbrew.com/blogs/what-data-to-use-to-personalize-cold-outreach\n",
      "https://www.therocketbrew.com/\n",
      "https://www.therocketbrew.com/team\n",
      "https://www.therocketbrew.com/startup\n",
      "https://www.therocketbrew.com/features\n",
      "http://www.therocketbrew.com/sales-and-crm-integrations\n",
      "https://www.therocketbrew.com/checkout\n",
      "http://www.therocketbrew.com/blogs\n",
      "https://www.therocketbrew.com/pricing\n",
      "http://www.therocketbrew.com/blogs/what-are-the-key-elements-of-a-good-value-proposition\n",
      "https://www.therocketbrew.com/blogs\n",
      "https://www.therocketbrew.com/enterprise\n",
      "http://www.therocketbrew.com/security-and-trust\n",
      "https://www.therocketbrew.com/book-a-demo\n",
      "http://www.therocketbrew.com/email-101-how-to-set-up-dns-records-email-auth-for-gmail-using-rocketbrew\n",
      "len(links)=15\n"
     ]
    }
   ],
   "source": [
    "\n",
    "\n",
    "def get_all_links(url):\n",
    "    try:\n",
    "        # Step 1: Fetch the HTML content\n",
    "        response = requests.get(url)\n",
    "        response.raise_for_status()  # Check if the request was successful\n",
    "        html_content = response.text\n",
    "\n",
    "        # Step 2: Parse the HTML\n",
    "        soup = BeautifulSoup(html_content, 'html.parser')\n",
    "\n",
    "        # Step 3: Extract the links\n",
    "        links = []\n",
    "        for a_tag in soup.find_all('a', href=True):\n",
    "            link = urljoin(url, a_tag['href'])  # Convert relative URLs to absolute\n",
    "            links.append(link)\n",
    "\n",
    "        clean_links = get_clean_links(links)\n",
    "        same_domain_links = filter_different_domain_links(clean_links, url)\n",
    "        return same_domain_links\n",
    "    \n",
    "    except requests.RequestException as e:\n",
    "        print(f\"Error fetching the URL: {e}\")\n",
    "        return []\n",
    "    \n",
    "def get_clean_links(links: list) -> list:\n",
    "    links = list(set(links))\n",
    "    links = [link for link in links if link.startswith('https://www.') or link.startswith('http://www.')]\n",
    "\n",
    "    return links\n",
    "\n",
    "def filter_different_domain_links(links: list, url) -> list:\n",
    "    domain = url.replace('https://www.', '').replace('http://www.', '').split('.', maxsplit=1)[0]\n",
    "\n",
    "    links = [link for link in links \n",
    "             if link.replace('https://www.', '').replace('http://www.', '').startswith(domain)]\n",
    "    return links\n",
    "\n",
    "# Usage\n",
    "url = 'https://www.therocketbrew.com/'  \n",
    "links = get_all_links(url)\n",
    "for link in links:\n",
    "    print(link)\n",
    "\n",
    "print(f\"{len(links)=}\")"
   ]
  },
  {
   "cell_type": "code",
   "execution_count": 7,
   "metadata": {},
   "outputs": [
    {
     "data": {
      "text/plain": [
       "'therocketbrew'"
      ]
     },
     "execution_count": 7,
     "metadata": {},
     "output_type": "execute_result"
    }
   ],
   "source": [
    "domain = url.replace('https://www.', '').replace('http://www.', '').split('.', maxsplit=1)[0]\n",
    "domain"
   ]
  },
  {
   "cell_type": "markdown",
   "metadata": {},
   "source": [
    "## Decide what links are useful to scrape"
   ]
  },
  {
   "cell_type": "code",
   "execution_count": 14,
   "metadata": {},
   "outputs": [],
   "source": [
    "import os\n",
    "import openai\n",
    "from dotenv import load_dotenv, find_dotenv\n",
    "\n",
    "_ = load_dotenv(find_dotenv()) # read local .env file\n",
    "openai.api_key = os.environ['OPENAI_API_KEY']"
   ]
  },
  {
   "cell_type": "code",
   "execution_count": 18,
   "metadata": {},
   "outputs": [],
   "source": [
    "from langchain_openai import ChatOpenAI"
   ]
  },
  {
   "cell_type": "code",
   "execution_count": 19,
   "metadata": {},
   "outputs": [],
   "source": [
    "llm_model = \"gpt-3.5-turbo\""
   ]
  },
  {
   "cell_type": "code",
   "execution_count": 20,
   "metadata": {},
   "outputs": [
    {
     "data": {
      "text/plain": [
       "ChatOpenAI(client=<openai.resources.chat.completions.Completions object at 0x10ecc5270>, async_client=<openai.resources.chat.completions.AsyncCompletions object at 0x10ecc6980>, temperature=0.0, openai_api_key=SecretStr('**********'), openai_proxy='')"
      ]
     },
     "execution_count": 20,
     "metadata": {},
     "output_type": "execute_result"
    }
   ],
   "source": [
    "# To control the randomness and creativity of the generated\n",
    "# text by an LLM, use temperature = 0.0\n",
    "chat = ChatOpenAI(temperature=0.0, model=llm_model)\n",
    "chat"
   ]
  },
  {
   "cell_type": "code",
   "execution_count": 21,
   "metadata": {},
   "outputs": [],
   "source": [
    "SYSTEM_PROMPT = \"\"\"\n",
    "I'm scraping website to learn more about the product it offers, what are the benefits of using it and what are the competitive advantages of this company or its products. \n",
    "\n",
    "Help me decide what 10 links out of all links should I scrape. Return the JSON with key \"useful_links\" and value is list of links.\n",
    "\n",
    "My life depends on this. I will tip you generously if you follow the instructions and do a great job. Only return the JSON with key \"useful_links\" and value is list of links, no other text is needed.\n",
    "\n",
    "\"\"\""
   ]
  },
  {
   "cell_type": "code",
   "execution_count": 22,
   "metadata": {},
   "outputs": [],
   "source": [
    "template_string = \"\"\"Translate the text \\\n",
    "that is delimited by triple backticks \\\n",
    "into a style that is {style}. \\\n",
    "text: ```{text}```\n",
    "\"\"\""
   ]
  },
  {
   "cell_type": "code",
   "execution_count": 23,
   "metadata": {},
   "outputs": [],
   "source": [
    "from langchain.prompts import ChatPromptTemplate\n",
    "\n",
    "prompt_template = ChatPromptTemplate.from_template(template_string)"
   ]
  },
  {
   "cell_type": "code",
   "execution_count": 24,
   "metadata": {},
   "outputs": [
    {
     "data": {
      "text/plain": [
       "['style', 'text']"
      ]
     },
     "execution_count": 24,
     "metadata": {},
     "output_type": "execute_result"
    }
   ],
   "source": [
    "prompt_template.messages[0].prompt.input_variables"
   ]
  },
  {
   "cell_type": "code",
   "execution_count": 25,
   "metadata": {},
   "outputs": [],
   "source": [
    "customer_email = \"\"\"\n",
    "Arrr, I be fuming that me blender lid \\\n",
    "flew off and splattered me kitchen walls \\\n",
    "with smoothie! And to make matters worse, \\\n",
    "the warranty don't cover the cost of \\\n",
    "cleaning up me kitchen. I need yer help \\\n",
    "right now, matey!\n",
    "\"\"\""
   ]
  },
  {
   "cell_type": "code",
   "execution_count": 26,
   "metadata": {},
   "outputs": [],
   "source": [
    "customer_style = \"\"\"American English \\\n",
    "in a calm and respectful tone\n",
    "\"\"\""
   ]
  },
  {
   "cell_type": "code",
   "execution_count": 27,
   "metadata": {},
   "outputs": [],
   "source": [
    "customer_messages = prompt_template.format_messages(\n",
    "                    style=customer_style,\n",
    "                    text=customer_email)"
   ]
  },
  {
   "cell_type": "code",
   "execution_count": 28,
   "metadata": {},
   "outputs": [
    {
     "name": "stdout",
     "output_type": "stream",
     "text": [
      "content=\"Translate the text that is delimited by triple backticks into a style that is American English in a calm and respectful tone\\n. text: ```\\nArrr, I be fuming that me blender lid flew off and splattered me kitchen walls with smoothie! And to make matters worse, the warranty don't cover the cost of cleaning up me kitchen. I need yer help right now, matey!\\n```\\n\"\n"
     ]
    }
   ],
   "source": [
    "print(customer_messages[0])"
   ]
  },
  {
   "cell_type": "code",
   "execution_count": 30,
   "metadata": {},
   "outputs": [],
   "source": [
    "# Call the LLM to translate to the style of the customer message\n",
    "customer_response = chat.invoke(customer_messages)"
   ]
  },
  {
   "cell_type": "code",
   "execution_count": 31,
   "metadata": {},
   "outputs": [
    {
     "name": "stdout",
     "output_type": "stream",
     "text": [
      "Oh man, I'm really frustrated that my blender lid flew off and made a mess of my kitchen walls with smoothie! And on top of that, the warranty doesn't cover the cost of cleaning up my kitchen. I could really use your help right now, buddy.\n"
     ]
    }
   ],
   "source": [
    "print(customer_response.content)"
   ]
  },
  {
   "cell_type": "code",
   "execution_count": null,
   "metadata": {},
   "outputs": [],
   "source": []
  },
  {
   "cell_type": "code",
   "execution_count": null,
   "metadata": {},
   "outputs": [],
   "source": []
  },
  {
   "cell_type": "markdown",
   "metadata": {},
   "source": [
    "## Extract text from these links"
   ]
  },
  {
   "cell_type": "code",
   "execution_count": 32,
   "metadata": {},
   "outputs": [
    {
     "data": {
      "text/plain": [
       "['http://www.therocketbrew.com/blogs/what-data-to-use-to-personalize-cold-outreach',\n",
       " 'https://www.therocketbrew.com/',\n",
       " 'https://www.therocketbrew.com/team',\n",
       " 'https://www.therocketbrew.com/startup',\n",
       " 'https://www.therocketbrew.com/features',\n",
       " 'http://www.therocketbrew.com/sales-and-crm-integrations',\n",
       " 'https://www.therocketbrew.com/checkout',\n",
       " 'http://www.therocketbrew.com/blogs',\n",
       " 'https://www.therocketbrew.com/pricing',\n",
       " 'http://www.therocketbrew.com/blogs/what-are-the-key-elements-of-a-good-value-proposition',\n",
       " 'https://www.therocketbrew.com/blogs',\n",
       " 'https://www.therocketbrew.com/enterprise',\n",
       " 'http://www.therocketbrew.com/security-and-trust',\n",
       " 'https://www.therocketbrew.com/book-a-demo',\n",
       " 'http://www.therocketbrew.com/email-101-how-to-set-up-dns-records-email-auth-for-gmail-using-rocketbrew']"
      ]
     },
     "execution_count": 32,
     "metadata": {},
     "output_type": "execute_result"
    }
   ],
   "source": [
    "links"
   ]
  },
  {
   "cell_type": "code",
   "execution_count": 40,
   "metadata": {},
   "outputs": [],
   "source": [
    "selected_links = [\n",
    "    \"https://www.therocketbrew.com/\",\n",
    "    \"https://www.therocketbrew.com/features\",\n",
    "    \"http://www.therocketbrew.com/sales-and-crm-integrations\",\n",
    "    \"https://www.therocketbrew.com/enterprise\",\n",
    "    \"http://www.therocketbrew.com/security-and-trust\",\n",
    "    \"http://www.therocketbrew.com/blogs/what-data-to-use-to-personalize-cold-outreach\",\n",
    "    \"http://www.therocketbrew.com/blogs/what-are-the-key-elements-of-a-good-value-proposition\",\n",
    "    \"https://www.therocketbrew.com/startup\"\n",
    "]"
   ]
  },
  {
   "cell_type": "code",
   "execution_count": 39,
   "metadata": {},
   "outputs": [
    {
     "data": {
      "text/plain": [
       "'http://www.therocketbrew.com/blogs/what-data-to-use-to-personalize-cold-outreach'"
      ]
     },
     "execution_count": 39,
     "metadata": {},
     "output_type": "execute_result"
    }
   ],
   "source": [
    "link = links[0]\n",
    "\n",
    "link"
   ]
  },
  {
   "cell_type": "code",
   "execution_count": 35,
   "metadata": {},
   "outputs": [
    {
     "data": {
      "text/plain": [
       "'Rocketbrew | AI for personalized outbound\\n\\n\\n\\n\\n\\nSolutionsFor EnterpriseFor sales teams who want their entire outbound process to be automated with AI.For StartupsFor sellers just getting started with outreach and want an end-to-end solution to take care of everything.For TeamsFor outbound teams who want the highest performing tools for their SDRs.FeaturesPricingBlogsHow it worksPricingBlogsHow it worksPricingLoginGet startedYour Cart$Â\\xa00.00Â\\xa0USD: RemoveSubtotalPay with browser.Continue to CheckoutNo items found.Product is not available in this quantity.Personalized sales outbound,on autopilot.Automate your entire LinkedIn and email outreach motion including initial message, follow ups and scheduling a meeting - without a template.Get StartedSee how this workstrusted by 100+ companiestrusted by 100+ companiesOur generative AIÂ\\xa0model books more calls directly into your calendar.No more boring templates, wondering what to say, or endless follow ups. A completely automated end-to-end solution.Our system handles the entire interaction with your lead - from initial outreach, to conversing, to scheduling a meeting into your calendar. Plus in-app lead sourcing and CRM integration. Stop with the \"Saw you work at {company name}\" templates.Our generative AI model connects the dots on your lead\\'s profile and online activity to craft a hyper-personalized and relevant message for each lead, including follow ups.Not just an AI model, but your AI model.Easily tune the model with your own product description and value proposition without any code.value3 Â\\xa0Social profiles12 Team members5 Competitors per profileHashtags per profile5 Competitors per profileHashtags per profile\\nGet setup in 5 minutes.No complicated integrations or engineering resources needed.Connect your GTMÂ\\xa0StackSetup the modelHop on the booked callsSecurely connect your entire GTM stackRocketbrew integrates with your existing systems as an all-in-one outbound solution.Source leads and add product informationThe model reaches out to 500+ cold leads each month through organic connections. Each message and follow up is uniquely generated and paced out.Go straight to the meetingEasily review the conversation history for context and skip straight to the meeting.See how Rocketbrew does it\"Rocketbrew has been a great help to our small commercial team, saving us significant time in prospecting customers.\"- Zack Raborn, BD at Ansa BioBefore Rocketbrew, IÂ\\xa0was using a templated automation tool. I would get lots of connections but the tricky part was always getting the conversation going. Rocketbrew\\'s personalized messages are the difference between sales activity and sales outcomes.\"I never respond to outreachbut IÂ\\xa0responded to Rocketbrew.\"I heard about Rocketbrew from an outreach message from the team. It was by far the best cold outreach message I had ever received, and I didn\\'t believe it was written by AI. Now, I\\'ve fine-tuned Rocketbrew to my own use cases, and letting the tool do its magic.Javier LuraschiCEO, Hal9\"Night and day difference between Rocketbrew and templated messages.\"Before Rocketbrew, I focused on prioritizing volume by sending templated messages, but I would send thousands with few responses. With Rocketbrew, I can maintain a level of personalization and creative touch with every message I send. It\\'s honestly like having 3 extra players on my team to help craft genuine messages.Peter JurisicCEO, Budee\"If you can close calls, but struggle to open them, you need Rocketbrew.\"Reaching out to Fortune 500 companies is not easy. My team can close calls no problem, but getting our foot through the door was where we needed help and Rocketbrew has stepped in big time. We\\'ve gotten over 30 conversations in a month with Fortune 500 decision makers, all of them initiated by Rocketbrew\\'s hyper-personalized and well-researched messaging.Amit HasakCEO, Transship\"Scale your outreach without having to scale your team.\"The best tool for managing your team\\'s outbound. With Rocketbrew, I can manage our entire team\\'s accounts to scale our outreach, easily sending messages and responses from multiple accounts within one platform. The personalization can also be tuned per account, making the messages stand out and saving me soooooo much time.Chris RichaBD, StudioAccelerate your outbound, without adding headcount.Build pipelineAdd up to 15 incremental calls per rep, each month.Drive engagementConvert 33% of connections to conversations.Expand capacitySave up to 168 hours per rep, each month.TryRocketbrewfor FreeNo fuss, no muss.Get started nowTest messaging within the first 15 minutesFree hands-on onboarding & supportBecome a sales godteam@loverocketbrew.comResourcesContact UsBlogsWhat data to use for personalizationKey elements of an A+ value propositionDocumentationSecurity &Â\\xa0TrustSales and CRMÂ\\xa0IntegrationsHow to Set Up DNS Records & Email AuthÂ© All rights reserved.Privacy PolicyTerms & Conditions'"
      ]
     },
     "execution_count": 35,
     "metadata": {},
     "output_type": "execute_result"
    }
   ],
   "source": [
    "import requests\n",
    "from bs4 import BeautifulSoup\n",
    "from typing import List\n",
    "\n",
    "\n",
    "def fetch_html_content(url: str) -> str:\n",
    "    \"\"\"Fetch the HTML content from a given URL.\n",
    "\n",
    "    Args:\n",
    "        url (str): The URL of the website to fetch HTML content from.\n",
    "\n",
    "    Returns:\n",
    "        str: The raw HTML content of the page.\n",
    "    \"\"\"\n",
    "    try:\n",
    "        response = requests.get(url)\n",
    "        response.raise_for_status()  # Check if the request was successful\n",
    "\n",
    "         # Parse the HTML content\n",
    "        soup = BeautifulSoup(response.text, 'html.parser')\n",
    "        \n",
    "        return soup.get_text()\n",
    "    except requests.RequestException as e:\n",
    "        print(f\"Error fetching the URL: {e}\")\n",
    "        return \"\"\n",
    "\n",
    "\n",
    "url = link \n",
    "html_content = fetch_html_content(url)\n",
    "\n",
    "html_content\n"
   ]
  },
  {
   "cell_type": "code",
   "execution_count": 37,
   "metadata": {},
   "outputs": [
    {
     "data": {
      "text/plain": [
       "4931"
      ]
     },
     "execution_count": 37,
     "metadata": {},
     "output_type": "execute_result"
    }
   ],
   "source": [
    "len(html_content)"
   ]
  },
  {
   "cell_type": "code",
   "execution_count": 41,
   "metadata": {},
   "outputs": [
    {
     "name": "stdout",
     "output_type": "stream",
     "text": [
      "https://www.therocketbrew.com/ 4931\n",
      "https://www.therocketbrew.com/features 9862\n",
      "http://www.therocketbrew.com/sales-and-crm-integrations 14793\n",
      "https://www.therocketbrew.com/enterprise 19724\n",
      "http://www.therocketbrew.com/security-and-trust 24655\n",
      "http://www.therocketbrew.com/blogs/what-data-to-use-to-personalize-cold-outreach 29586\n",
      "http://www.therocketbrew.com/blogs/what-are-the-key-elements-of-a-good-value-proposition 34517\n",
      "https://www.therocketbrew.com/startup 39448\n"
     ]
    }
   ],
   "source": [
    "website_info = ''\n",
    "\n",
    "for link in selected_links:\n",
    "    html_content = fetch_html_content(url)\n",
    "    website_info += html_content\n",
    "    print(link, len(website_info))\n"
   ]
  },
  {
   "cell_type": "code",
   "execution_count": 44,
   "metadata": {},
   "outputs": [],
   "source": [
    "with open('website_info.txt', 'w') as file:\n",
    "    file.write(website_info)"
   ]
  },
  {
   "cell_type": "code",
   "execution_count": 43,
   "metadata": {},
   "outputs": [
    {
     "name": "stdout",
     "output_type": "stream",
     "text": [
      "Rocketbrew | AI for personalized outbound\n",
      "\n",
      "\n",
      "\n",
      "\n",
      "\n",
      "SolutionsFor EnterpriseFor sales teams who want their entire outbound process to be automated with AI.For StartupsFor sellers just getting started with outreach and want an end-to-end solution to take care of everything.For TeamsFor outbound teams who want the highest performing tools for their SDRs.FeaturesPricingBlogsHow it worksPricingBlogsHow it worksPricingLoginGet startedYour Cart$Â 0.00Â USD: RemoveSubtotalPay with browser.Continue to CheckoutNo items found.Product is not available in this quantity.Personalized sales outbound,on autopilot.Automate your entire LinkedIn and email outreach motion including initial message, follow ups and scheduling a meeting - without a template.Get StartedSee how this workstrusted by 100+ companiestrusted by 100+ companiesOur generative AIÂ model books more calls directly into your calendar.No more boring templates, wondering what to say, or endless follow ups. A completely automated end-to-end solution.Our system handles the entire interaction with your lead - from initial outreach, to conversing, to scheduling a meeting into your calendar. Plus in-app lead sourcing and CRM integration. Stop with the \"Saw you work at {company name}\" templates.Our generative AI model connects the dots on your lead's profile and online activity to craft a hyper-personalized and relevant message for each lead, including follow ups.Not just an AI model, but your AI model.Easily tune the model with your own product description and value proposition without any code.value3 Â Social profiles12 Team members5 Competitors per profileHashtags per profile5 Competitors per profileHashtags per profile\n",
      "Get setup in 5 minutes.No complicated integrations or engineering resources needed.Connect your GTMÂ StackSetup the modelHop on the booked callsSecurely connect your entire GTM stackRocketbrew integrates with your existing systems as an all-in-one outbound solution.Source leads and add product informationThe model reaches out to 500+ cold leads each month through organic connections. Each message and follow up is uniquely generated and paced out.Go straight to the meetingEasily review the conversation history for context and skip straight to the meeting.See how Rocketbrew does it\"Rocketbrew has been a great help to our small commercial team, saving us significant time in prospecting customers.\"- Zack Raborn, BD at Ansa BioBefore Rocketbrew, IÂ was using a templated automation tool. I would get lots of connections but the tricky part was always getting the conversation going. Rocketbrew's personalized messages are the difference between sales activity and sales outcomes.\"I never respond to outreachbut IÂ responded to Rocketbrew.\"I heard about Rocketbrew from an outreach message from the team. It was by far the best cold outreach message I had ever received, and I didn't believe it was written by AI. Now, I've fine-tuned Rocketbrew to my own use cases, and letting the tool do its magic.Javier LuraschiCEO, Hal9\"Night and day difference between Rocketbrew and templated messages.\"Before Rocketbrew, I focused on prioritizing volume by sending templated messages, but I would send thousands with few responses. With Rocketbrew, I can maintain a level of personalization and creative touch with every message I send. It's honestly like having 3 extra players on my team to help craft genuine messages.Peter JurisicCEO, Budee\"If you can close calls, but struggle to open them, you need Rocketbrew.\"Reaching out to Fortune 500 companies is not easy. My team can close calls no problem, but getting our foot through the door was where we needed help and Rocketbrew has stepped in big time. We've gotten over 30 conversations in a month with Fortune 500 decision makers, all of them initiated by Rocketbrew's hyper-personalized and well-researched messaging.Amit HasakCEO, Transship\"Scale your outreach without having to scale your team.\"The best tool for managing your team's outbound. With Rocketbrew, I can manage our entire team's accounts to scale our outreach, easily sending messages and responses from multiple accounts within one platform. The personalization can also be tuned per account, making the messages stand out and saving me soooooo much time.Chris RichaBD, StudioAccelerate your outbound, without adding headcount.Build pipelineAdd up to 15 incremental calls per rep, each month.Drive engagementConvert 33% of connections to conversations.Expand capacitySave up to 168 hours per rep, each month.TryRocketbrewfor FreeNo fuss, no muss.Get started nowTest messaging within the first 15 minutesFree hands-on onboarding & supportBecome a sales godteam@loverocketbrew.comResourcesContact UsBlogsWhat data to use for personalizationKey elements of an A+ value propositionDocumentationSecurity &Â TrustSales and CRMÂ IntegrationsHow to Set Up DNS Records & Email AuthÂ© All rights reserved.Privacy PolicyTerms & ConditionsRocketbrew | AI for personalized outbound\n",
      "\n",
      "\n",
      "\n",
      "\n",
      "\n",
      "SolutionsFor EnterpriseFor sales teams who want their entire outbound process to be automated with AI.For StartupsFor sellers just getting started with outreach and want an end-to-end solution to take care of everything.For TeamsFor outbound teams who want the highest performing tools for their SDRs.FeaturesPricingBlogsHow it worksPricingBlogsHow it worksPricingLoginGet startedYour Cart$Â 0.00Â USD: RemoveSubtotalPay with browser.Continue to CheckoutNo items found.Product is not available in this quantity.Personalized sales outbound,on autopilot.Automate your entire LinkedIn and email outreach motion including initial message, follow ups and scheduling a meeting - without a template.Get StartedSee how this workstrusted by 100+ companiestrusted by 100+ companiesOur generative AIÂ model books more calls directly into your calendar.No more boring templates, wondering what to say, or endless follow ups. A completely automated end-to-end solution.Our system handles the entire interaction with your lead - from initial outreach, to conversing, to scheduling a meeting into your calendar. Plus in-app lead sourcing and CRM integration. Stop with the \"Saw you work at {company name}\" templates.Our generative AI model connects the dots on your lead's profile and online activity to craft a hyper-personalized and relevant message for each lead, including follow ups.Not just an AI model, but your AI model.Easily tune the model with your own product description and value proposition without any code.value3 Â Social profiles12 Team members5 Competitors per profileHashtags per profile5 Competitors per profileHashtags per profile\n",
      "Get setup in 5 minutes.No complicated integrations or engineering resources needed.Connect your GTMÂ StackSetup the modelHop on the booked callsSecurely connect your entire GTM stackRocketbrew integrates with your existing systems as an all-in-one outbound solution.Source leads and add product informationThe model reaches out to 500+ cold leads each month through organic connections. Each message and follow up is uniquely generated and paced out.Go straight to the meetingEasily review the conversation history for context and skip straight to the meeting.See how Rocketbrew does it\"Rocketbrew has been a great help to our small commercial team, saving us significant time in prospecting customers.\"- Zack Raborn, BD at Ansa BioBefore Rocketbrew, IÂ was using a templated automation tool. I would get lots of connections but the tricky part was always getting the conversation going. Rocketbrew's personalized messages are the difference between sales activity and sales outcomes.\"I never respond to outreachbut IÂ responded to Rocketbrew.\"I heard about Rocketbrew from an outreach message from the team. It was by far the best cold outreach message I had ever received, and I didn't believe it was written by AI. Now, I've fine-tuned Rocketbrew to my own use cases, and letting the tool do its magic.Javier LuraschiCEO, Hal9\"Night and day difference between Rocketbrew and templated messages.\"Before Rocketbrew, I focused on prioritizing volume by sending templated messages, but I would send thousands with few responses. With Rocketbrew, I can maintain a level of personalization and creative touch with every message I send. It's honestly like having 3 extra players on my team to help craft genuine messages.Peter JurisicCEO, Budee\"If you can close calls, but struggle to open them, you need Rocketbrew.\"Reaching out to Fortune 500 companies is not easy. My team can close calls no problem, but getting our foot through the door was where we needed help and Rocketbrew has stepped in big time. We've gotten over 30 conversations in a month with Fortune 500 decision makers, all of them initiated by Rocketbrew's hyper-personalized and well-researched messaging.Amit HasakCEO, Transship\"Scale your outreach without having to scale your team.\"The best tool for managing your team's outbound. With Rocketbrew, I can manage our entire team's accounts to scale our outreach, easily sending messages and responses from multiple accounts within one platform. The personalization can also be tuned per account, making the messages stand out and saving me soooooo much time.Chris RichaBD, StudioAccelerate your outbound, without adding headcount.Build pipelineAdd up to 15 incremental calls per rep, each month.Drive engagementConvert 33% of connections to conversations.Expand capacitySave up to 168 hours per rep, each month.TryRocketbrewfor FreeNo fuss, no muss.Get started nowTest messaging within the first 15 minutesFree hands-on onboarding & supportBecome a sales godteam@loverocketbrew.comResourcesContact UsBlogsWhat data to use for personalizationKey elements of an A+ value propositionDocumentationSecurity &Â TrustSales and CRMÂ IntegrationsHow to Set Up DNS Records & Email AuthÂ© All rights reserved.Privacy PolicyTerms & ConditionsRocketbrew | AI for personalized outbound\n",
      "\n",
      "\n",
      "\n",
      "\n",
      "\n",
      "SolutionsFor EnterpriseFor sales teams who want their entire outbound process to be automated with AI.For StartupsFor sellers just getting started with outreach and want an end-to-end solution to take care of everything.For TeamsFor outbound teams who want the highest performing tools for their SDRs.FeaturesPricingBlogsHow it worksPricingBlogsHow it worksPricingLoginGet startedYour Cart$Â 0.00Â USD: RemoveSubtotalPay with browser.Continue to CheckoutNo items found.Product is not available in this quantity.Personalized sales outbound,on autopilot.Automate your entire LinkedIn and email outreach motion including initial message, follow ups and scheduling a meeting - without a template.Get StartedSee how this workstrusted by 100+ companiestrusted by 100+ companiesOur generative AIÂ model books more calls directly into your calendar.No more boring templates, wondering what to say, or endless follow ups. A completely automated end-to-end solution.Our system handles the entire interaction with your lead - from initial outreach, to conversing, to scheduling a meeting into your calendar. Plus in-app lead sourcing and CRM integration. Stop with the \"Saw you work at {company name}\" templates.Our generative AI model connects the dots on your lead's profile and online activity to craft a hyper-personalized and relevant message for each lead, including follow ups.Not just an AI model, but your AI model.Easily tune the model with your own product description and value proposition without any code.value3 Â Social profiles12 Team members5 Competitors per profileHashtags per profile5 Competitors per profileHashtags per profile\n",
      "Get setup in 5 minutes.No complicated integrations or engineering resources needed.Connect your GTMÂ StackSetup the modelHop on the booked callsSecurely connect your entire GTM stackRocketbrew integrates with your existing systems as an all-in-one outbound solution.Source leads and add product informationThe model reaches out to 500+ cold leads each month through organic connections. Each message and follow up is uniquely generated and paced out.Go straight to the meetingEasily review the conversation history for context and skip straight to the meeting.See how Rocketbrew does it\"Rocketbrew has been a great help to our small commercial team, saving us significant time in prospecting customers.\"- Zack Raborn, BD at Ansa BioBefore Rocketbrew, IÂ was using a templated automation tool. I would get lots of connections but the tricky part was always getting the conversation going. Rocketbrew's personalized messages are the difference between sales activity and sales outcomes.\"I never respond to outreachbut IÂ responded to Rocketbrew.\"I heard about Rocketbrew from an outreach message from the team. It was by far the best cold outreach message I had ever received, and I didn't believe it was written by AI. Now, I've fine-tuned Rocketbrew to my own use cases, and letting the tool do its magic.Javier LuraschiCEO, Hal9\"Night and day difference between Rocketbrew and templated messages.\"Before Rocketbrew, I focused on prioritizing volume by sending templated messages, but I would send thousands with few responses. With Rocketbrew, I can maintain a level of personalization and creative touch with every message I send. It's honestly like having 3 extra players on my team to help craft genuine messages.Peter JurisicCEO, Budee\"If you can close calls, but struggle to open them, you need Rocketbrew.\"Reaching out to Fortune 500 companies is not easy. My team can close calls no problem, but getting our foot through the door was where we needed help and Rocketbrew has stepped in big time. We've gotten over 30 conversations in a month with Fortune 500 decision makers, all of them initiated by Rocketbrew's hyper-personalized and well-researched messaging.Amit HasakCEO, Transship\"Scale your outreach without having to scale your team.\"The best tool for managing your team's outbound. With Rocketbrew, I can manage our entire team's accounts to scale our outreach, easily sending messages and responses from multiple accounts within one platform. The personalization can also be tuned per account, making the messages stand out and saving me soooooo much time.Chris RichaBD, StudioAccelerate your outbound, without adding headcount.Build pipelineAdd up to 15 incremental calls per rep, each month.Drive engagementConvert 33% of connections to conversations.Expand capacitySave up to 168 hours per rep, each month.TryRocketbrewfor FreeNo fuss, no muss.Get started nowTest messaging within the first 15 minutesFree hands-on onboarding & supportBecome a sales godteam@loverocketbrew.comResourcesContact UsBlogsWhat data to use for personalizationKey elements of an A+ value propositionDocumentationSecurity &Â TrustSales and CRMÂ IntegrationsHow to Set Up DNS Records & Email AuthÂ© All rights reserved.Privacy PolicyTerms & ConditionsRocketbrew | AI for personalized outbound\n",
      "\n",
      "\n",
      "\n",
      "\n",
      "\n",
      "SolutionsFor EnterpriseFor sales teams who want their entire outbound process to be automated with AI.For StartupsFor sellers just getting started with outreach and want an end-to-end solution to take care of everything.For TeamsFor outbound teams who want the highest performing tools for their SDRs.FeaturesPricingBlogsHow it worksPricingBlogsHow it worksPricingLoginGet startedYour Cart$Â 0.00Â USD: RemoveSubtotalPay with browser.Continue to CheckoutNo items found.Product is not available in this quantity.Personalized sales outbound,on autopilot.Automate your entire LinkedIn and email outreach motion including initial message, follow ups and scheduling a meeting - without a template.Get StartedSee how this workstrusted by 100+ companiestrusted by 100+ companiesOur generative AIÂ model books more calls directly into your calendar.No more boring templates, wondering what to say, or endless follow ups. A completely automated end-to-end solution.Our system handles the entire interaction with your lead - from initial outreach, to conversing, to scheduling a meeting into your calendar. Plus in-app lead sourcing and CRM integration. Stop with the \"Saw you work at {company name}\" templates.Our generative AI model connects the dots on your lead's profile and online activity to craft a hyper-personalized and relevant message for each lead, including follow ups.Not just an AI model, but your AI model.Easily tune the model with your own product description and value proposition without any code.value3 Â Social profiles12 Team members5 Competitors per profileHashtags per profile5 Competitors per profileHashtags per profile\n",
      "Get setup in 5 minutes.No complicated integrations or engineering resources needed.Connect your GTMÂ StackSetup the modelHop on the booked callsSecurely connect your entire GTM stackRocketbrew integrates with your existing systems as an all-in-one outbound solution.Source leads and add product informationThe model reaches out to 500+ cold leads each month through organic connections. Each message and follow up is uniquely generated and paced out.Go straight to the meetingEasily review the conversation history for context and skip straight to the meeting.See how Rocketbrew does it\"Rocketbrew has been a great help to our small commercial team, saving us significant time in prospecting customers.\"- Zack Raborn, BD at Ansa BioBefore Rocketbrew, IÂ was using a templated automation tool. I would get lots of connections but the tricky part was always getting the conversation going. Rocketbrew's personalized messages are the difference between sales activity and sales outcomes.\"I never respond to outreachbut IÂ responded to Rocketbrew.\"I heard about Rocketbrew from an outreach message from the team. It was by far the best cold outreach message I had ever received, and I didn't believe it was written by AI. Now, I've fine-tuned Rocketbrew to my own use cases, and letting the tool do its magic.Javier LuraschiCEO, Hal9\"Night and day difference between Rocketbrew and templated messages.\"Before Rocketbrew, I focused on prioritizing volume by sending templated messages, but I would send thousands with few responses. With Rocketbrew, I can maintain a level of personalization and creative touch with every message I send. It's honestly like having 3 extra players on my team to help craft genuine messages.Peter JurisicCEO, Budee\"If you can close calls, but struggle to open them, you need Rocketbrew.\"Reaching out to Fortune 500 companies is not easy. My team can close calls no problem, but getting our foot through the door was where we needed help and Rocketbrew has stepped in big time. We've gotten over 30 conversations in a month with Fortune 500 decision makers, all of them initiated by Rocketbrew's hyper-personalized and well-researched messaging.Amit HasakCEO, Transship\"Scale your outreach without having to scale your team.\"The best tool for managing your team's outbound. With Rocketbrew, I can manage our entire team's accounts to scale our outreach, easily sending messages and responses from multiple accounts within one platform. The personalization can also be tuned per account, making the messages stand out and saving me soooooo much time.Chris RichaBD, StudioAccelerate your outbound, without adding headcount.Build pipelineAdd up to 15 incremental calls per rep, each month.Drive engagementConvert 33% of connections to conversations.Expand capacitySave up to 168 hours per rep, each month.TryRocketbrewfor FreeNo fuss, no muss.Get started nowTest messaging within the first 15 minutesFree hands-on onboarding & supportBecome a sales godteam@loverocketbrew.comResourcesContact UsBlogsWhat data to use for personalizationKey elements of an A+ value propositionDocumentationSecurity &Â TrustSales and CRMÂ IntegrationsHow to Set Up DNS Records & Email AuthÂ© All rights reserved.Privacy PolicyTerms & ConditionsRocketbrew | AI for personalized outbound\n",
      "\n",
      "\n",
      "\n",
      "\n",
      "\n",
      "SolutionsFor EnterpriseFor sales teams who want their entire outbound process to be automated with AI.For StartupsFor sellers just getting started with outreach and want an end-to-end solution to take care of everything.For TeamsFor outbound teams who want the highest performing tools for their SDRs.FeaturesPricingBlogsHow it worksPricingBlogsHow it worksPricingLoginGet startedYour Cart$Â 0.00Â USD: RemoveSubtotalPay with browser.Continue to CheckoutNo items found.Product is not available in this quantity.Personalized sales outbound,on autopilot.Automate your entire LinkedIn and email outreach motion including initial message, follow ups and scheduling a meeting - without a template.Get StartedSee how this workstrusted by 100+ companiestrusted by 100+ companiesOur generative AIÂ model books more calls directly into your calendar.No more boring templates, wondering what to say, or endless follow ups. A completely automated end-to-end solution.Our system handles the entire interaction with your lead - from initial outreach, to conversing, to scheduling a meeting into your calendar. Plus in-app lead sourcing and CRM integration. Stop with the \"Saw you work at {company name}\" templates.Our generative AI model connects the dots on your lead's profile and online activity to craft a hyper-personalized and relevant message for each lead, including follow ups.Not just an AI model, but your AI model.Easily tune the model with your own product description and value proposition without any code.value3 Â Social profiles12 Team members5 Competitors per profileHashtags per profile5 Competitors per profileHashtags per profile\n",
      "Get setup in 5 minutes.No complicated integrations or engineering resources needed.Connect your GTMÂ StackSetup the modelHop on the booked callsSecurely connect your entire GTM stackRocketbrew integrates with your existing systems as an all-in-one outbound solution.Source leads and add product informationThe model reaches out to 500+ cold leads each month through organic connections. Each message and follow up is uniquely generated and paced out.Go straight to the meetingEasily review the conversation history for context and skip straight to the meeting.See how Rocketbrew does it\"Rocketbrew has been a great help to our small commercial team, saving us significant time in prospecting customers.\"- Zack Raborn, BD at Ansa BioBefore Rocketbrew, IÂ was using a templated automation tool. I would get lots of connections but the tricky part was always getting the conversation going. Rocketbrew's personalized messages are the difference between sales activity and sales outcomes.\"I never respond to outreachbut IÂ responded to Rocketbrew.\"I heard about Rocketbrew from an outreach message from the team. It was by far the best cold outreach message I had ever received, and I didn't believe it was written by AI. Now, I've fine-tuned Rocketbrew to my own use cases, and letting the tool do its magic.Javier LuraschiCEO, Hal9\"Night and day difference between Rocketbrew and templated messages.\"Before Rocketbrew, I focused on prioritizing volume by sending templated messages, but I would send thousands with few responses. With Rocketbrew, I can maintain a level of personalization and creative touch with every message I send. It's honestly like having 3 extra players on my team to help craft genuine messages.Peter JurisicCEO, Budee\"If you can close calls, but struggle to open them, you need Rocketbrew.\"Reaching out to Fortune 500 companies is not easy. My team can close calls no problem, but getting our foot through the door was where we needed help and Rocketbrew has stepped in big time. We've gotten over 30 conversations in a month with Fortune 500 decision makers, all of them initiated by Rocketbrew's hyper-personalized and well-researched messaging.Amit HasakCEO, Transship\"Scale your outreach without having to scale your team.\"The best tool for managing your team's outbound. With Rocketbrew, I can manage our entire team's accounts to scale our outreach, easily sending messages and responses from multiple accounts within one platform. The personalization can also be tuned per account, making the messages stand out and saving me soooooo much time.Chris RichaBD, StudioAccelerate your outbound, without adding headcount.Build pipelineAdd up to 15 incremental calls per rep, each month.Drive engagementConvert 33% of connections to conversations.Expand capacitySave up to 168 hours per rep, each month.TryRocketbrewfor FreeNo fuss, no muss.Get started nowTest messaging within the first 15 minutesFree hands-on onboarding & supportBecome a sales godteam@loverocketbrew.comResourcesContact UsBlogsWhat data to use for personalizationKey elements of an A+ value propositionDocumentationSecurity &Â TrustSales and CRMÂ IntegrationsHow to Set Up DNS Records & Email AuthÂ© All rights reserved.Privacy PolicyTerms & ConditionsRocketbrew | AI for personalized outbound\n",
      "\n",
      "\n",
      "\n",
      "\n",
      "\n",
      "SolutionsFor EnterpriseFor sales teams who want their entire outbound process to be automated with AI.For StartupsFor sellers just getting started with outreach and want an end-to-end solution to take care of everything.For TeamsFor outbound teams who want the highest performing tools for their SDRs.FeaturesPricingBlogsHow it worksPricingBlogsHow it worksPricingLoginGet startedYour Cart$Â 0.00Â USD: RemoveSubtotalPay with browser.Continue to CheckoutNo items found.Product is not available in this quantity.Personalized sales outbound,on autopilot.Automate your entire LinkedIn and email outreach motion including initial message, follow ups and scheduling a meeting - without a template.Get StartedSee how this workstrusted by 100+ companiestrusted by 100+ companiesOur generative AIÂ model books more calls directly into your calendar.No more boring templates, wondering what to say, or endless follow ups. A completely automated end-to-end solution.Our system handles the entire interaction with your lead - from initial outreach, to conversing, to scheduling a meeting into your calendar. Plus in-app lead sourcing and CRM integration. Stop with the \"Saw you work at {company name}\" templates.Our generative AI model connects the dots on your lead's profile and online activity to craft a hyper-personalized and relevant message for each lead, including follow ups.Not just an AI model, but your AI model.Easily tune the model with your own product description and value proposition without any code.value3 Â Social profiles12 Team members5 Competitors per profileHashtags per profile5 Competitors per profileHashtags per profile\n",
      "Get setup in 5 minutes.No complicated integrations or engineering resources needed.Connect your GTMÂ StackSetup the modelHop on the booked callsSecurely connect your entire GTM stackRocketbrew integrates with your existing systems as an all-in-one outbound solution.Source leads and add product informationThe model reaches out to 500+ cold leads each month through organic connections. Each message and follow up is uniquely generated and paced out.Go straight to the meetingEasily review the conversation history for context and skip straight to the meeting.See how Rocketbrew does it\"Rocketbrew has been a great help to our small commercial team, saving us significant time in prospecting customers.\"- Zack Raborn, BD at Ansa BioBefore Rocketbrew, IÂ was using a templated automation tool. I would get lots of connections but the tricky part was always getting the conversation going. Rocketbrew's personalized messages are the difference between sales activity and sales outcomes.\"I never respond to outreachbut IÂ responded to Rocketbrew.\"I heard about Rocketbrew from an outreach message from the team. It was by far the best cold outreach message I had ever received, and I didn't believe it was written by AI. Now, I've fine-tuned Rocketbrew to my own use cases, and letting the tool do its magic.Javier LuraschiCEO, Hal9\"Night and day difference between Rocketbrew and templated messages.\"Before Rocketbrew, I focused on prioritizing volume by sending templated messages, but I would send thousands with few responses. With Rocketbrew, I can maintain a level of personalization and creative touch with every message I send. It's honestly like having 3 extra players on my team to help craft genuine messages.Peter JurisicCEO, Budee\"If you can close calls, but struggle to open them, you need Rocketbrew.\"Reaching out to Fortune 500 companies is not easy. My team can close calls no problem, but getting our foot through the door was where we needed help and Rocketbrew has stepped in big time. We've gotten over 30 conversations in a month with Fortune 500 decision makers, all of them initiated by Rocketbrew's hyper-personalized and well-researched messaging.Amit HasakCEO, Transship\"Scale your outreach without having to scale your team.\"The best tool for managing your team's outbound. With Rocketbrew, I can manage our entire team's accounts to scale our outreach, easily sending messages and responses from multiple accounts within one platform. The personalization can also be tuned per account, making the messages stand out and saving me soooooo much time.Chris RichaBD, StudioAccelerate your outbound, without adding headcount.Build pipelineAdd up to 15 incremental calls per rep, each month.Drive engagementConvert 33% of connections to conversations.Expand capacitySave up to 168 hours per rep, each month.TryRocketbrewfor FreeNo fuss, no muss.Get started nowTest messaging within the first 15 minutesFree hands-on onboarding & supportBecome a sales godteam@loverocketbrew.comResourcesContact UsBlogsWhat data to use for personalizationKey elements of an A+ value propositionDocumentationSecurity &Â TrustSales and CRMÂ IntegrationsHow to Set Up DNS Records & Email AuthÂ© All rights reserved.Privacy PolicyTerms & ConditionsRocketbrew | AI for personalized outbound\n",
      "\n",
      "\n",
      "\n",
      "\n",
      "\n",
      "SolutionsFor EnterpriseFor sales teams who want their entire outbound process to be automated with AI.For StartupsFor sellers just getting started with outreach and want an end-to-end solution to take care of everything.For TeamsFor outbound teams who want the highest performing tools for their SDRs.FeaturesPricingBlogsHow it worksPricingBlogsHow it worksPricingLoginGet startedYour Cart$Â 0.00Â USD: RemoveSubtotalPay with browser.Continue to CheckoutNo items found.Product is not available in this quantity.Personalized sales outbound,on autopilot.Automate your entire LinkedIn and email outreach motion including initial message, follow ups and scheduling a meeting - without a template.Get StartedSee how this workstrusted by 100+ companiestrusted by 100+ companiesOur generative AIÂ model books more calls directly into your calendar.No more boring templates, wondering what to say, or endless follow ups. A completely automated end-to-end solution.Our system handles the entire interaction with your lead - from initial outreach, to conversing, to scheduling a meeting into your calendar. Plus in-app lead sourcing and CRM integration. Stop with the \"Saw you work at {company name}\" templates.Our generative AI model connects the dots on your lead's profile and online activity to craft a hyper-personalized and relevant message for each lead, including follow ups.Not just an AI model, but your AI model.Easily tune the model with your own product description and value proposition without any code.value3 Â Social profiles12 Team members5 Competitors per profileHashtags per profile5 Competitors per profileHashtags per profile\n",
      "Get setup in 5 minutes.No complicated integrations or engineering resources needed.Connect your GTMÂ StackSetup the modelHop on the booked callsSecurely connect your entire GTM stackRocketbrew integrates with your existing systems as an all-in-one outbound solution.Source leads and add product informationThe model reaches out to 500+ cold leads each month through organic connections. Each message and follow up is uniquely generated and paced out.Go straight to the meetingEasily review the conversation history for context and skip straight to the meeting.See how Rocketbrew does it\"Rocketbrew has been a great help to our small commercial team, saving us significant time in prospecting customers.\"- Zack Raborn, BD at Ansa BioBefore Rocketbrew, IÂ was using a templated automation tool. I would get lots of connections but the tricky part was always getting the conversation going. Rocketbrew's personalized messages are the difference between sales activity and sales outcomes.\"I never respond to outreachbut IÂ responded to Rocketbrew.\"I heard about Rocketbrew from an outreach message from the team. It was by far the best cold outreach message I had ever received, and I didn't believe it was written by AI. Now, I've fine-tuned Rocketbrew to my own use cases, and letting the tool do its magic.Javier LuraschiCEO, Hal9\"Night and day difference between Rocketbrew and templated messages.\"Before Rocketbrew, I focused on prioritizing volume by sending templated messages, but I would send thousands with few responses. With Rocketbrew, I can maintain a level of personalization and creative touch with every message I send. It's honestly like having 3 extra players on my team to help craft genuine messages.Peter JurisicCEO, Budee\"If you can close calls, but struggle to open them, you need Rocketbrew.\"Reaching out to Fortune 500 companies is not easy. My team can close calls no problem, but getting our foot through the door was where we needed help and Rocketbrew has stepped in big time. We've gotten over 30 conversations in a month with Fortune 500 decision makers, all of them initiated by Rocketbrew's hyper-personalized and well-researched messaging.Amit HasakCEO, Transship\"Scale your outreach without having to scale your team.\"The best tool for managing your team's outbound. With Rocketbrew, I can manage our entire team's accounts to scale our outreach, easily sending messages and responses from multiple accounts within one platform. The personalization can also be tuned per account, making the messages stand out and saving me soooooo much time.Chris RichaBD, StudioAccelerate your outbound, without adding headcount.Build pipelineAdd up to 15 incremental calls per rep, each month.Drive engagementConvert 33% of connections to conversations.Expand capacitySave up to 168 hours per rep, each month.TryRocketbrewfor FreeNo fuss, no muss.Get started nowTest messaging within the first 15 minutesFree hands-on onboarding & supportBecome a sales godteam@loverocketbrew.comResourcesContact UsBlogsWhat data to use for personalizationKey elements of an A+ value propositionDocumentationSecurity &Â TrustSales and CRMÂ IntegrationsHow to Set Up DNS Records & Email AuthÂ© All rights reserved.Privacy PolicyTerms & ConditionsRocketbrew | AI for personalized outbound\n",
      "\n",
      "\n",
      "\n",
      "\n",
      "\n",
      "SolutionsFor EnterpriseFor sales teams who want their entire outbound process to be automated with AI.For StartupsFor sellers just getting started with outreach and want an end-to-end solution to take care of everything.For TeamsFor outbound teams who want the highest performing tools for their SDRs.FeaturesPricingBlogsHow it worksPricingBlogsHow it worksPricingLoginGet startedYour Cart$Â 0.00Â USD: RemoveSubtotalPay with browser.Continue to CheckoutNo items found.Product is not available in this quantity.Personalized sales outbound,on autopilot.Automate your entire LinkedIn and email outreach motion including initial message, follow ups and scheduling a meeting - without a template.Get StartedSee how this workstrusted by 100+ companiestrusted by 100+ companiesOur generative AIÂ model books more calls directly into your calendar.No more boring templates, wondering what to say, or endless follow ups. A completely automated end-to-end solution.Our system handles the entire interaction with your lead - from initial outreach, to conversing, to scheduling a meeting into your calendar. Plus in-app lead sourcing and CRM integration. Stop with the \"Saw you work at {company name}\" templates.Our generative AI model connects the dots on your lead's profile and online activity to craft a hyper-personalized and relevant message for each lead, including follow ups.Not just an AI model, but your AI model.Easily tune the model with your own product description and value proposition without any code.value3 Â Social profiles12 Team members5 Competitors per profileHashtags per profile5 Competitors per profileHashtags per profile\n",
      "Get setup in 5 minutes.No complicated integrations or engineering resources needed.Connect your GTMÂ StackSetup the modelHop on the booked callsSecurely connect your entire GTM stackRocketbrew integrates with your existing systems as an all-in-one outbound solution.Source leads and add product informationThe model reaches out to 500+ cold leads each month through organic connections. Each message and follow up is uniquely generated and paced out.Go straight to the meetingEasily review the conversation history for context and skip straight to the meeting.See how Rocketbrew does it\"Rocketbrew has been a great help to our small commercial team, saving us significant time in prospecting customers.\"- Zack Raborn, BD at Ansa BioBefore Rocketbrew, IÂ was using a templated automation tool. I would get lots of connections but the tricky part was always getting the conversation going. Rocketbrew's personalized messages are the difference between sales activity and sales outcomes.\"I never respond to outreachbut IÂ responded to Rocketbrew.\"I heard about Rocketbrew from an outreach message from the team. It was by far the best cold outreach message I had ever received, and I didn't believe it was written by AI. Now, I've fine-tuned Rocketbrew to my own use cases, and letting the tool do its magic.Javier LuraschiCEO, Hal9\"Night and day difference between Rocketbrew and templated messages.\"Before Rocketbrew, I focused on prioritizing volume by sending templated messages, but I would send thousands with few responses. With Rocketbrew, I can maintain a level of personalization and creative touch with every message I send. It's honestly like having 3 extra players on my team to help craft genuine messages.Peter JurisicCEO, Budee\"If you can close calls, but struggle to open them, you need Rocketbrew.\"Reaching out to Fortune 500 companies is not easy. My team can close calls no problem, but getting our foot through the door was where we needed help and Rocketbrew has stepped in big time. We've gotten over 30 conversations in a month with Fortune 500 decision makers, all of them initiated by Rocketbrew's hyper-personalized and well-researched messaging.Amit HasakCEO, Transship\"Scale your outreach without having to scale your team.\"The best tool for managing your team's outbound. With Rocketbrew, I can manage our entire team's accounts to scale our outreach, easily sending messages and responses from multiple accounts within one platform. The personalization can also be tuned per account, making the messages stand out and saving me soooooo much time.Chris RichaBD, StudioAccelerate your outbound, without adding headcount.Build pipelineAdd up to 15 incremental calls per rep, each month.Drive engagementConvert 33% of connections to conversations.Expand capacitySave up to 168 hours per rep, each month.TryRocketbrewfor FreeNo fuss, no muss.Get started nowTest messaging within the first 15 minutesFree hands-on onboarding & supportBecome a sales godteam@loverocketbrew.comResourcesContact UsBlogsWhat data to use for personalizationKey elements of an A+ value propositionDocumentationSecurity &Â TrustSales and CRMÂ IntegrationsHow to Set Up DNS Records & Email AuthÂ© All rights reserved.Privacy PolicyTerms & Conditions\n"
     ]
    }
   ],
   "source": [
    "print(website_info)"
   ]
  },
  {
   "cell_type": "code",
   "execution_count": null,
   "metadata": {},
   "outputs": [],
   "source": []
  }
 ],
 "metadata": {
  "kernelspec": {
   "display_name": ".sales",
   "language": "python",
   "name": "python3"
  },
  "language_info": {
   "codemirror_mode": {
    "name": "ipython",
    "version": 3
   },
   "file_extension": ".py",
   "mimetype": "text/x-python",
   "name": "python",
   "nbconvert_exporter": "python",
   "pygments_lexer": "ipython3",
   "version": "3.10.9"
  }
 },
 "nbformat": 4,
 "nbformat_minor": 2
}
